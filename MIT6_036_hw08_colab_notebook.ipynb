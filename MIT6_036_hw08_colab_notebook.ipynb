{
  "nbformat": 4,
  "nbformat_minor": 0,
  "metadata": {
    "colab": {
      "name": "MIT6.036 hw08 colab notebook",
      "version": "0.3.2",
      "provenance": [],
      "collapsed_sections": [
        "v-sSs7N4mMiX",
        "Zh4u39OCjLza"
      ],
      "include_colab_link": true
    },
    "kernelspec": {
      "name": "python3",
      "display_name": "Python 3"
    }
  },
  "cells": [
    {
      "cell_type": "markdown",
      "metadata": {
        "id": "view-in-github",
        "colab_type": "text"
      },
      "source": [
        "<a href=\"https://colab.research.google.com/github/yangyuegly/6.036HW/blob/new_branch/MIT6_036_hw08_colab_notebook.ipynb\" target=\"_parent\"><img src=\"https://colab.research.google.com/assets/colab-badge.svg\" alt=\"Open In Colab\"/></a>"
      ]
    },
    {
      "metadata": {
        "id": "_xIaEwCD406A",
        "colab_type": "text"
      },
      "cell_type": "markdown",
      "source": [
        "#MIT 6.036 Spring 2019: Homework 8#\n",
        "\n",
        "This colab notebook provides code and a framework for [homework 8](https://lms.mitx.mit.edu/courses/course-v1:MITx+6.036+2019_Spring/courseware/Week8/week8_homework/).  You can work out your solutions here, then submit your results back on the homework page when ready.\n",
        "\n",
        "## <section>**Setup**</section>\n",
        "\n",
        "First, download the code distribution for this homework that contains test cases and helper functions.\n",
        "\n",
        "Run the next code block to download and import the code for this lab.\n"
      ]
    },
    {
      "metadata": {
        "id": "2YM-_zLf9Bp-",
        "colab_type": "code",
        "outputId": "3f9ae273-7122-4141-ead8-c630287b6101",
        "colab": {
          "base_uri": "https://localhost:8080/",
          "height": 408
        }
      },
      "cell_type": "code",
      "source": [
        "!rm -rf code_for_hw8* __MACOSX data .DS_Store\n",
        "!wget --quiet https://introml.odl.mit.edu/cat-soop/_static/6.036/homework/hw08/code_for_hw8.zip\n",
        "!unzip code_for_hw8.zip\n",
        "!mv code_for_hw8/* .\n",
        "\n",
        "from code_for_hw8_oop import *\n",
        "import numpy as np\n",
        "import math as m"
      ],
      "execution_count": 2,
      "outputs": [
        {
          "output_type": "stream",
          "text": [
            "Archive:  code_for_hw8.zip\n",
            "   creating: code_for_hw8/\n",
            "  inflating: code_for_hw8/.DS_Store  \n",
            "   creating: __MACOSX/\n",
            "   creating: __MACOSX/code_for_hw8/\n",
            "  inflating: __MACOSX/code_for_hw8/._.DS_Store  \n",
            "  inflating: code_for_hw8/code_for_hw8_oop.py  \n",
            "  inflating: __MACOSX/code_for_hw8/._code_for_hw8_oop.py  \n",
            "   creating: code_for_hw8/data/\n",
            "  inflating: code_for_hw8/data/data3_train.csv  \n",
            "   creating: __MACOSX/code_for_hw8/data/\n",
            "  inflating: __MACOSX/code_for_hw8/data/._data3_train.csv  \n",
            "  inflating: code_for_hw8/data/data4_train.csv  \n",
            "  inflating: code_for_hw8/data/data4_validate.csv  \n",
            "  inflating: code_for_hw8/data/data3_validate.csv  \n",
            "  inflating: code_for_hw8/data/dataXor_train.csv  \n",
            "  inflating: code_for_hw8/data/data2_train.csv  \n",
            "  inflating: code_for_hw8/data/data2_validate.csv  \n",
            "  inflating: code_for_hw8/data/data3class_train.csv  \n",
            "  inflating: code_for_hw8/data/data1_validate.csv  \n",
            "  inflating: code_for_hw8/data/data1_train.csv  \n",
            "  inflating: code_for_hw8/code_for_hw8_keras.py  \n",
            "  inflating: __MACOSX/code_for_hw8/._code_for_hw8_keras.py  \n"
          ],
          "name": "stdout"
        }
      ]
    },
    {
      "metadata": {
        "id": "q9yVU74AuUU-",
        "colab_type": "text"
      },
      "cell_type": "markdown",
      "source": [
        "# 1) Batch Normalization\n",
        "No code involved,  <a href=\"https://lms.mitx.mit.edu/courses/course-v1:MITx+6.036+2019_Spring/courseware/Week8/week8_homework/\">Refer to the HW8 page.</a>"
      ]
    },
    {
      "metadata": {
        "id": "v-sSs7N4mMiX",
        "colab_type": "text"
      },
      "cell_type": "markdown",
      "source": [
        "# 2) Implementing Mini-batch Gradient Descent and Batch Normalization (OPTIONAL)\n",
        "\n",
        "** Note: You can click the arrow on the left of this text block to collapse/expand this optional section and all its code blocks **\n",
        "\n",
        "Last week we implemented a framework for building neural networks from scratch. We trained our models using *stochastic* gradient descent. In this problem, we explore how we can implement batch normalization as a module `BatchNorm` in our framework. It is the same module which you analyzed in problem 1. "
      ]
    },
    {
      "metadata": {
        "id": "HgxmIfXVmVwd",
        "colab_type": "text"
      },
      "cell_type": "markdown",
      "source": [
        "Key to the concept of batch normalization is the doing gradient descent on batches of data. So we instead of using last week's stochastic gradient descent, we will first implement the *mini-batch* gradient descent method `mini_gd`, which is a hybrid between *stochastic* gradient descent and *batch* gradient descent. The lecture notes on <a href=\"https://lms.mitx.mit.edu/courses/course-v1:MITx+6.036+2019_Spring/courseware/Week7/neural_networks_2/1?activate_block_id=block-v1%3AMITx%2B6.036%2B2019_Spring%2Btype%40vertical%2Bblock%40neural_networks_2_optimizing_neural_network_parameters_vert\"> optimizing neural network parameters</a> are helpful for this part.\n",
        "\n",
        "In *mini-batch* gradient descent, for a mini-batch of size $K$, we select $K$ distinct data points uniformly at random from the data set and update the network weights based only on their contributions to the gradient:\n",
        "$$W := W - \\eta\\sum_{i=1}^K \\nabla_W \\mathcal{L}(h(x^{(i)}; W), y^{(i)})\\;\\;.$$\n",
        "\n",
        "Our *mini-batch* method `mini_gd` will be implemented within the `Sequential` python class (see homework 7 problem 2) and will take the following as inputs:\n",
        "\n",
        "* `X`: a standard data array (d by n)\n",
        "* `y`: a standard labels row vector (1 by n)\n",
        "* `iters`: the number of updates to perform on weights $W$\n",
        "* `lrate`: the learning rate used\n",
        "* `K`: the mini-batch size to be used\n",
        "\n",
        "One call of `mini_gd` should call `Sequential.backward` for back-propagation and `Sequential.step` for updating the weights, for a total of `iters` times, using `lrate` as the learning rate. As in our implementation of `sgd` from homework 7, we compute the predicted output for a mini-batch of data with the `Sequential.forward` method. We compute the loss between our predictions and the true labels using the assigned `Sequential.loss` method. (Note that in homework 7, `Sequential.step` was called `Sequential.sgd_step`. While the functionality of the step function is the same, it has been renamed for convenience. The same is true for the `module.step` function of each module we implemented, where applicable.)\n",
        "\n",
        "For picking $K$ unique data points at random from our large data-set for each mini-batch, we will implement the following strategy: we will first shuffle our data points `X` (and associated labels `y`). Then, we get <math>\\frac{n}{k}</math> (rounded down to the nearest integer) different mini-batches by grouping each $K$ consecutive points from this shuffled array. If we end up iterating over all the points but need more mini-batches, we will repeat the shuffling and the batching process."
      ]
    },
    {
      "metadata": {
        "id": "Dr1kWI08mdo4",
        "colab_type": "text"
      },
      "cell_type": "markdown",
      "source": [
        "<b>2A)</b>You need to fill in the missing code below. We have implemented the shuffling of indices and have provided you with the outer and inner loops."
      ]
    },
    {
      "metadata": {
        "id": "h_lvmO9Z22bH",
        "colab_type": "text"
      },
      "cell_type": "markdown",
      "source": [
        "** This OPTIONAL problem has you extend your homework 7 implementation for building neural networks. **\n",
        "### PLEASE COPY IN YOUR CODE FROM HOMEWORK 7 TO COMPLEMENT THE CLASSES GIVEN HERE\n",
        "\n",
        "Recall that your implementation from homework 7 included the following classes:\n",
        "    \n",
        "  * Module\n",
        "  * Linear \n",
        "  * Tanh \n",
        "  * ReLU \n",
        "  * SoftMax\n",
        "  * NLL\n",
        "  * Sequential"
      ]
    },
    {
      "metadata": {
        "id": "ovtbqrrSmezE",
        "colab_type": "code",
        "colab": {}
      },
      "cell_type": "code",
      "source": [
        "import math as m \n",
        "\n",
        "class Sequential:\n",
        "    def __init__(self, modules, loss):            \n",
        "        self.modules = modules\n",
        "        self.loss = loss\n",
        "\n",
        "    def mini_gd(self, X, Y, iters, lrate, notif_each=None, K=10):\n",
        "        D, N = X.shape\n",
        "\n",
        "        np.random.seed(0)\n",
        "        num_updates = 0\n",
        "        indices = np.arange(N)\n",
        "        while num_updates < iters:\n",
        "\n",
        "            np.random.shuffle(indices)\n",
        "            X = None  # Your code\n",
        "            Y = None  # Your code\n",
        "\n",
        "            for j in range(m.floor(N/K)):\n",
        "                if num_updates >= iters: break\n",
        "\n",
        "                # Implement the main part of mini_gd here\n",
        "                # Your code\n",
        "                \n",
        "                num_updates += 1\n",
        "\n",
        "    def forward(self, Xt):                        \n",
        "        for m in self.modules: Xt = m.forward(Xt)\n",
        "        return Xt\n",
        "\n",
        "    def backward(self, delta):                   \n",
        "        for m in self.modules[::-1]: delta = m.backward(delta)\n",
        "\n",
        "    def step(self, lrate):    \n",
        "        for m in self.modules: m.step(lrate)"
      ],
      "execution_count": 0,
      "outputs": []
    },
    {
      "metadata": {
        "id": "1JZeeKXkm6YI",
        "colab_type": "text"
      },
      "cell_type": "markdown",
      "source": [
        "<b>2B)</b> We are now ready to implement batch normalization into our neural network framework! Our module `BatchNorm` will sit between consecutive layers of neurons, such as the $l^{th}$ and $(l+1)^{th}$ layers, acting as a \"corrector\" which allows $W^l$ to change freely, producing outputs $z^l$, but then the module corrects the covariate shift induced in the signals before they reach the $(l+1)^{th}$ layer, converting $z^l$ to $\\widehat{Z}^l$. \n",
        "\n",
        "The following is a summmary what is described in the <a href=\"https://lms.mitx.mit.edu/courses/course-v1:MITx+6.036+2019_Spring/courseware/Week7/neural_networks_2/2\">lecture notes</a>, and it should guide your implementation of the module. \n",
        "\n",
        "Any normalization between the $l^{th}$ and $(l+1)^{th}$ layers is done *separately* for each of the $n^l$ input connections leading to the $(l+1)^{th}$ layer. We handle a mini-batch of data of size $K$, and $Z^l$ is $n^l \\times K$, and the output $\\widehat{Z}^l$is of the same shape. \n",
        "\n",
        "We first compute $n^l$ *batchwise* means and\n",
        "standard deviations.  Let $\\mu^l$ be the $n^l \\times 1$ vector (`self.mus`) where\n",
        "$$\\mu^l_i = \\frac{1}{K} \\sum_{j = 1}^K Z^l_{ij}\\;\\;,$$\n",
        "and let $\\sigma^l$ be the $n^l \\times 1$ vector (`self.vars`) where \n",
        "$$\\sigma^l_i = \\sqrt{\\frac{1}{K} \\sum_{j = 1}^K (Z^l_{ij} - \\mu_i)^2}\\;\\;.$$\n",
        "\n",
        "The normalized data `self.norm` is the matrix $\\overline{Z}$, where\n",
        "$$\\overline{Z}^l_{ij} = \\frac{Z^l_{ij} - \\mu^l_i}{\\sigma^l_i + \\epsilon}\\;\\;,$$\n",
        "and where $\\epsilon$ is a very small constant to guard against division by\n",
        "zero. \n",
        "\n",
        "We define weights $G^l$ (`self.G`) and $B^l$ (`self.B`), each being an $n^l \\times 1$ vector, which we use to to shift and scale the outputs:\n",
        "$$\\widehat{Z}^l_{ij} = G^l_i \\overline{Z}^l_{ij} + B^l_i\\;\\;.$$\n",
        "\n",
        "The outputs are finally ready to be passed to the $(l+1)^{th}$ layer.\n",
        "\n",
        "A slight warning (that we will not worry about here) about `BatchNorm` is that during the *test* phase, if the test mini-batch size is too small (imagine we are deploying a neural network that deals with live video frames), then the lack of samples would cause the freshly-calculated $\\mu^l$ and $\\sigma^l$ to be far off from their true values that the module's parameters $G^l$ and $B^l$ were trained to be compatible with. To fix that, people usually compute a running average of $\\mu^l$ and $\\sigma^l$ during training, to be used at test time. We will assume our test mini-batches are large enough.\n",
        "\n",
        "In this problem we only implement the `BatchNorm.forward` and `BatchNorm.step` methods. We provide you with the implementation for `BatchNorm.backward` and the lecture notes contain the details of the derivations. You will need to fill in the missing code below."
      ]
    },
    {
      "metadata": {
        "id": "UlXP26plm8R7",
        "colab_type": "code",
        "colab": {}
      },
      "cell_type": "code",
      "source": [
        "class BatchNorm(Module):    \n",
        "    def __init__(self, m):\n",
        "        np.random.seed(0)\n",
        "        self.eps = 1e-20\n",
        "        self.m = m  # number of input channels\n",
        "        \n",
        "        # Init learned shifts and scaling factors\n",
        "        self.B = np.zeros([self.m, 1])\n",
        "        self.G = np.random.normal(0, 1.0 * self.m ** (-.5), [self.m, 1])\n",
        "        \n",
        "    # Works on m x b matrices of m input channels and b different inputs\n",
        "    def forward(self, A):# A is m x K: m input channels and mini-batch size K\n",
        "        # Store last inputs and K for next backward() call\n",
        "        self.A = A\n",
        "        self.K = A.shape[1]\n",
        "        \n",
        "        self.mus = None  # Your Code\n",
        "        self.vars = None  # Your Code\n",
        "\n",
        "        # Normalize inputs using their mean and standard deviation\n",
        "        self.norm = None  # Your Code\n",
        "            \n",
        "        # Return scaled and shifted versions of self.norm\n",
        "        return None  # Your Code\n",
        "\n",
        "    def backward(self, dLdZ):\n",
        "        # Re-usable constants\n",
        "        std_inv = 1/np.sqrt(self.vars+self.eps)\n",
        "        A_min_mu = self.A-self.mus\n",
        "        \n",
        "        dLdnorm = dLdZ * self.G\n",
        "        dLdVar = np.sum(dLdnorm * A_min_mu * -0.5 * std_inv**3, axis=1, keepdims=True)\n",
        "        dLdMu = np.sum(dLdnorm*(-std_inv), axis=1, keepdims=True) + dLdVar * (-2/self.K) * np.sum(A_min_mu, axis=1, keepdims=True)\n",
        "        dLdX = (dLdnorm * std_inv) + (dLdVar * (2/self.K) * A_min_mu) + (dLdMu/self.K)\n",
        "        \n",
        "        self.dLdB = np.sum(dLdZ, axis=1, keepdims=True)\n",
        "        self.dLdG = np.sum(dLdZ * self.norm, axis=1, keepdims=True)\n",
        "        return dLdX\n",
        "\n",
        "    def step(self, lrate):\n",
        "        self.B = None  # Your Code\n",
        "        self.G = None  # Your Code\n",
        "        return"
      ],
      "execution_count": 0,
      "outputs": []
    },
    {
      "metadata": {
        "id": "65LKUAHD_77Y",
        "colab_type": "text"
      },
      "cell_type": "markdown",
      "source": [
        "# 3) 2D Datasets\n",
        "\n",
        "For the 2D datasets, we have provided the following function:\n",
        "\n",
        "\n",
        "```\n",
        "run_keras_2d(data_name, layers, epochs, split=0.25, display=True, trials=5)\n",
        "```\n",
        "\n",
        "\n",
        "where:\n",
        "\n",
        "data_name is a string, such as '1', '2', etc.\n",
        "layers is a list of Keras layer definitions for a Sequential model, e.g. \n",
        "```\n",
        "[Dense(input_dim=2, units=10, activation='relu'), Dense(units=2, activation='softmax')]\n",
        "```\n",
        "\n",
        "epochs is an integer indicating how many times to go through the data in training\n",
        "split is a fraction of the training data to use for validation if a validation set is not defined\n",
        "display whether to display result plots\n",
        "verbose whether to print loss and accuracy (percent correctly labeled) each epoch\n",
        "trials is an integer indicating how many times to perform the training and testing\n",
        "2D Data\n",
        "The two-class datasets have data_names: '1','2','3','4'. Target accuracies (percent correct) on the validation set are (99%, 90.5%, 96%, 94%).\n",
        "\n",
        "In this problem, try the following 5 architectures, specified by the number of units in the hidden layers:\n",
        "\n",
        "1: (0), 2: (10), 3: (100), 4: (10, 10), 5: (100, 100))\n",
        "You may find the archs function in the code file to be helpful here.\n",
        "Some of these questions ask for the \"simplest\" architecture; the list above is ordered starting with the simplest."
      ]
    },
    {
      "metadata": {
        "id": "Vp-RWPD7FUeo",
        "colab_type": "code",
        "outputId": "1d12c151-dc86-4333-d026-6ef206ad50dd",
        "colab": {
          "base_uri": "https://localhost:8080/",
          "height": 34
        }
      },
      "cell_type": "code",
      "source": [
        "from code_for_hw8_keras import *\n",
        "import keras\n",
        "from keras.models import Sequential\n",
        "from keras.optimizers import SGD, Adam\n",
        "from keras.layers import Conv1D, Conv2D, Dense, Dropout, Flatten, MaxPooling2D\n",
        "from keras.utils import np_utils\n",
        "from keras.callbacks import Callback\n",
        "from keras.datasets import mnist\n",
        "from keras import backend as K\n",
        "from keras.initializers import VarianceScaling\n",
        "from matplotlib import pyplot as plt"
      ],
      "execution_count": 3,
      "outputs": [
        {
          "output_type": "stream",
          "text": [
            "Using TensorFlow backend.\n"
          ],
          "name": "stderr"
        }
      ]
    },
    {
      "metadata": {
        "id": "_YWbWX47_9Tr",
        "colab_type": "code",
        "outputId": "ea45b3ea-dac4-4a7f-d58b-ea8ba98c3385",
        "colab": {
          "base_uri": "https://localhost:8080/",
          "height": 7395
        }
      },
      "cell_type": "code",
      "source": [
        "#example of run_keras_2d\n",
        "layer1 = keras.layers.Dense(units=3, activation='relu', use_bias=False)\n",
        "run_keras_2d(\"3\", archs(2)[0], 10, split=0.5, display=False, verbose=False, trials=1)\n",
        "\n",
        "\n"
      ],
      "execution_count": 0,
      "outputs": [
        {
          "output_type": "stream",
          "text": [
            "Keras FC: dataset= 3\n",
            "Convert from -1,1 to 0,1\n",
            "Loading X (400, 2) y (400,) classes {0.0, 1.0}\n",
            "Convert from -1,1 to 0,1\n",
            "Loading X (200, 2) y (200,) classes {0.0, 1.0}\n",
            "\n",
            "Loss on validation set:0.13384271360446293 Accuracy on validation set: 0.95\n",
            "\n",
            "Avg. validation accuracy:0.95\n"
          ],
          "name": "stdout"
        },
        {
          "output_type": "execute_result",
          "data": {
            "text/plain": [
              "(array([[-1.91870264e+00, -9.72408379e-01],\n",
              "        [-2.78095935e+00,  1.33528844e+00],\n",
              "        [ 1.53758454e+00,  4.26999405e-01],\n",
              "        [-1.55593397e+00,  1.54091974e+00],\n",
              "        [-7.02131498e-01, -6.29810247e-01],\n",
              "        [ 4.42338898e-01, -7.90399307e-01],\n",
              "        [ 3.70332689e-01, -2.35719846e+00],\n",
              "        [-1.54098934e+00, -1.19598653e+00],\n",
              "        [ 3.05757245e+00,  8.02533863e-02],\n",
              "        [ 1.12891929e-01,  9.84968701e-01],\n",
              "        [-9.97925058e-01,  7.41648174e-01],\n",
              "        [ 6.82230917e-01,  1.43235646e+00],\n",
              "        [ 1.07186791e+00, -6.00332252e-01],\n",
              "        [-3.44366268e-01, -1.36434668e+00],\n",
              "        [ 6.12599632e-01, -6.08357600e-01],\n",
              "        [ 3.56311070e-01, -1.83422288e+00],\n",
              "        [ 1.55592533e+00,  9.77496170e-01],\n",
              "        [ 2.97069152e-01, -1.18341697e+00],\n",
              "        [ 3.07141783e-01, -5.24623805e-01],\n",
              "        [-1.14015107e+00,  6.75329607e-01],\n",
              "        [-9.15863874e-01,  1.16368824e+00],\n",
              "        [-1.27959872e-01,  1.42780257e+00],\n",
              "        [ 3.59507195e-01,  7.53390980e-01],\n",
              "        [-1.37496427e+00, -2.14360387e+00],\n",
              "        [-1.09673065e-01, -9.38314921e-01],\n",
              "        [-2.79335783e-01, -8.87909018e-01],\n",
              "        [-9.26586783e-01,  2.04149817e+00],\n",
              "        [ 4.04713428e-01,  1.39722625e+00],\n",
              "        [ 9.33095520e-02, -1.34614077e+00],\n",
              "        [-2.94792699e-01, -6.86119747e-01],\n",
              "        [ 1.49791013e+00, -9.05810242e-01],\n",
              "        [ 4.96845017e-01,  8.59549327e-01],\n",
              "        [ 3.76946605e-03, -2.19287900e+00],\n",
              "        [ 1.32115979e+00,  1.08700327e+00],\n",
              "        [ 3.60688993e-01, -1.41913281e+00],\n",
              "        [ 2.69701928e-01, -3.44847643e-01],\n",
              "        [ 1.24118132e-01, -1.30177445e+00],\n",
              "        [ 1.08570167e+00, -9.29783088e-01],\n",
              "        [ 7.82625350e-02,  7.77665351e-01],\n",
              "        [ 1.20849816e+00, -5.16103953e-01],\n",
              "        [-3.90784151e-01,  9.14456623e-01],\n",
              "        [-9.89379259e-01,  1.43420494e+00],\n",
              "        [-7.03010715e-01, -8.36794524e-01],\n",
              "        [-7.93915442e-02,  5.93908225e-01],\n",
              "        [ 1.55798065e-01,  9.80926148e-01],\n",
              "        [-1.59015462e+00,  7.44042740e-02],\n",
              "        [ 9.04075035e-01, -4.19988897e-01],\n",
              "        [ 9.33550381e-01, -2.31296466e-01],\n",
              "        [ 2.22795714e+00,  1.13783995e+00],\n",
              "        [ 8.70593920e-02,  1.16291413e+00],\n",
              "        [ 1.50096157e+00, -1.67580194e+00],\n",
              "        [-9.70534473e-01,  1.13151763e+00],\n",
              "        [ 5.25962696e-01, -2.00777506e+00],\n",
              "        [-5.09257270e-01,  1.47036827e+00],\n",
              "        [ 1.62752185e-01,  9.21716731e-01],\n",
              "        [-9.00916800e-01,  1.09612133e+00],\n",
              "        [ 1.44416641e+00,  3.36156387e-01],\n",
              "        [-1.23416151e+00,  1.19439315e+00],\n",
              "        [ 1.34281872e+00, -1.98908865e+00],\n",
              "        [-1.34882284e+00, -2.41377262e+00],\n",
              "        [-8.88840612e-01,  9.57599953e-01],\n",
              "        [ 5.10668351e-01,  1.43624362e+00],\n",
              "        [-1.07412296e-01,  1.18497910e+00],\n",
              "        [ 6.65228620e-01,  1.05274437e+00],\n",
              "        [ 8.73755570e-01,  7.88411817e-01],\n",
              "        [ 2.01124258e+00, -6.50151870e-01],\n",
              "        [-6.50672262e-01,  1.22474875e+00],\n",
              "        [-4.93084898e-01,  7.83595885e-01],\n",
              "        [ 4.70360399e-01,  1.05361224e+00],\n",
              "        [ 1.24289721e+00,  3.87016394e-01],\n",
              "        [-2.48121610e+00, -1.36699313e+00],\n",
              "        [ 1.30783537e+00,  8.72599493e-01],\n",
              "        [-2.48854241e+00,  6.00533278e-01],\n",
              "        [ 1.45250817e+00, -1.98062295e+00],\n",
              "        [ 1.83689989e-01, -2.78607469e-01],\n",
              "        [ 9.05983584e-01,  8.39840174e-01],\n",
              "        [ 1.13615505e+00,  9.34159707e-01],\n",
              "        [ 2.56817317e+00,  1.00347317e+00],\n",
              "        [-1.77364406e-01, -9.63714670e-01],\n",
              "        [ 1.16818754e+00, -4.06042985e-01],\n",
              "        [ 6.10165824e-01, -7.02758659e-01],\n",
              "        [-1.03777338e+00,  8.71249143e-01],\n",
              "        [ 1.84385841e+00, -1.19911559e+00],\n",
              "        [ 4.74916742e-01, -1.14933559e+00],\n",
              "        [-6.74156049e-01,  8.03037965e-01],\n",
              "        [-1.89499918e-01,  8.55965739e-01],\n",
              "        [-5.33350199e-01, -7.01342176e-01],\n",
              "        [-1.47211524e-01, -6.12836186e-01],\n",
              "        [-7.36954920e-01, -1.99090996e+00],\n",
              "        [-4.83400521e-01,  5.84297393e-01],\n",
              "        [ 7.74967979e-01, -5.45248881e-02],\n",
              "        [-1.29008702e-01, -6.50680800e-01],\n",
              "        [-1.07724068e+00, -9.62656450e-01],\n",
              "        [ 1.09315404e+00,  1.25350731e+00],\n",
              "        [-1.61810048e-01,  1.17513901e+00],\n",
              "        [-6.78200836e-02, -7.11586415e-01],\n",
              "        [ 2.70581984e-01,  8.32604236e-01],\n",
              "        [ 7.14038234e-01,  1.02249603e+00],\n",
              "        [ 1.92377126e-01, -1.50177035e-01],\n",
              "        [-5.15713362e-01, -2.05668156e+00],\n",
              "        [-5.76529670e-01, -9.03522018e-01],\n",
              "        [-7.97818459e-01,  1.73665182e-01],\n",
              "        [ 8.37403896e-01,  7.07465258e-01],\n",
              "        [-5.62743687e-01,  1.05045366e+00],\n",
              "        [-3.12358157e-01, -1.47095439e+00],\n",
              "        [-4.61139539e-01, -7.41682510e-01],\n",
              "        [-3.98901569e-01, -1.37282347e+00],\n",
              "        [-1.12435698e+00, -4.30035232e-01],\n",
              "        [ 2.89462527e-01,  8.06161465e-01],\n",
              "        [-1.00263655e+00,  6.72766167e-01],\n",
              "        [-9.03762539e-01, -1.97830405e+00],\n",
              "        [ 3.39483309e-01, -1.53777198e+00],\n",
              "        [ 2.74061755e-02, -1.06785991e+00],\n",
              "        [-6.09169793e-01,  1.21864793e+00],\n",
              "        [ 2.15120831e-01, -1.07328215e+00],\n",
              "        [ 1.22280969e+00, -6.34011641e-01],\n",
              "        [ 7.10252376e-01,  1.10546805e+00],\n",
              "        [ 1.10961771e+00, -1.71291812e+00],\n",
              "        [-1.05960887e+00,  1.27313945e+00],\n",
              "        [-6.40393302e-02, -2.09756863e-01],\n",
              "        [-6.11094774e-01, -1.75893850e+00],\n",
              "        [ 1.65294623e+00, -1.25610734e+00],\n",
              "        [-5.89184200e-01, -7.13968242e-01],\n",
              "        [-4.14832677e-01, -7.61685543e-01],\n",
              "        [ 1.25180445e+00, -1.31323403e+00],\n",
              "        [ 1.00844652e+00,  1.30543156e+00],\n",
              "        [ 1.17325348e-01, -1.47735832e+00],\n",
              "        [-1.92028794e-01,  6.18618137e-01],\n",
              "        [-1.30422169e-01, -8.92018698e-01],\n",
              "        [ 8.65776779e-01, -1.21762329e+00],\n",
              "        [-6.53755185e-01,  1.22121044e+00],\n",
              "        [-4.73362117e-01,  5.83668048e-01],\n",
              "        [-5.66103130e-02, -1.74011165e+00],\n",
              "        [-2.19315340e-01,  1.31915105e+00],\n",
              "        [-8.83476976e-01,  1.09421850e+00],\n",
              "        [-1.10907769e+00,  6.14530338e-01],\n",
              "        [-2.80759883e-01, -6.54796310e-01],\n",
              "        [ 1.15606866e-01,  6.01664637e-01],\n",
              "        [-1.40386913e+00, -1.02071773e+00],\n",
              "        [ 1.80089979e-01,  8.68041199e-01],\n",
              "        [ 5.31870945e-01,  6.12922734e-03],\n",
              "        [-6.24272716e-01,  1.25215523e+00],\n",
              "        [ 2.97793904e-01,  9.73662817e-01],\n",
              "        [ 6.21830757e-01,  1.03110956e+00],\n",
              "        [-1.40281568e+00, -9.50144300e-01],\n",
              "        [ 6.97383772e-01, -2.26678389e+00],\n",
              "        [ 2.27937491e+00, -5.31454264e-01],\n",
              "        [-1.42672828e+00, -1.68955108e+00],\n",
              "        [ 2.98144973e-01,  5.57058930e-01],\n",
              "        [ 1.25803015e+00, -1.32034853e+00],\n",
              "        [-9.45670383e-01,  2.91358459e-01],\n",
              "        [-1.29386870e+00,  8.96543019e-01],\n",
              "        [-2.81881752e-01, -8.84938507e-01],\n",
              "        [-4.54727548e-01,  8.28009080e-01],\n",
              "        [ 4.82131302e-01, -7.66786885e-01],\n",
              "        [ 2.82678103e-01, -1.52199667e+00],\n",
              "        [-1.45586427e+00,  1.06759553e+00],\n",
              "        [ 1.27208381e-01,  1.33817514e+00],\n",
              "        [ 8.25923398e-01,  1.33663561e+00],\n",
              "        [ 3.59454556e-02, -4.94537729e-01],\n",
              "        [-1.17264210e+00, -2.10489761e+00],\n",
              "        [-3.44555998e-01,  4.75899767e-03],\n",
              "        [ 4.82659146e-01, -1.18185819e+00],\n",
              "        [ 7.70115634e-01,  7.80058089e-01],\n",
              "        [-6.38776473e-01, -1.49137041e+00],\n",
              "        [ 2.68572445e-01,  9.19915554e-01],\n",
              "        [-9.17862713e-01, -1.28247051e+00],\n",
              "        [-6.36989768e-01,  8.95222556e-01],\n",
              "        [-1.55601351e-01, -4.15193470e-01],\n",
              "        [-2.09114448e-01,  4.01341583e-01],\n",
              "        [-8.66231054e-01,  1.14435380e+00],\n",
              "        [-1.47108290e+00,  9.47191900e-01],\n",
              "        [-9.49084956e-01,  1.13001262e+00],\n",
              "        [ 1.25901523e+00,  1.11166169e+00],\n",
              "        [-1.00421449e+00,  9.21219259e-01],\n",
              "        [ 4.51483402e-01,  6.79791225e-01],\n",
              "        [ 1.03489991e+00,  1.19767297e+00],\n",
              "        [ 3.43319427e-01, -1.58022728e+00],\n",
              "        [ 4.69102326e-01,  1.00753548e+00],\n",
              "        [-7.65561520e-01,  1.13055983e+00],\n",
              "        [-3.92251702e-01, -5.99675561e-01],\n",
              "        [-1.25241081e-01,  7.65571558e-01],\n",
              "        [-5.97566850e-01, -2.36224337e-01],\n",
              "        [-4.72235332e-02,  1.12898458e+00],\n",
              "        [ 2.18459391e+00,  9.08547003e-01],\n",
              "        [ 6.37641117e-01,  9.24521718e-01],\n",
              "        [ 1.49376800e-01,  6.48015791e-01],\n",
              "        [-1.33650871e-01, -9.32036395e-01],\n",
              "        [ 8.09768501e-01,  1.25234471e+00],\n",
              "        [ 7.26888772e-01,  1.01551074e+00],\n",
              "        [ 1.24379850e+00, -1.24186239e+00],\n",
              "        [-1.56985091e+00,  1.81721816e-01],\n",
              "        [ 5.75533547e-01, -1.77035812e+00],\n",
              "        [ 8.49637322e-01, -1.29314599e-01],\n",
              "        [-5.01996284e-02,  9.92626678e-01],\n",
              "        [-8.19227913e-01,  1.13638010e+00],\n",
              "        [ 1.29299584e+00,  1.13473841e+00],\n",
              "        [ 1.34258818e+00,  9.03842338e-01],\n",
              "        [-6.25363136e-01, -2.16919689e+00],\n",
              "        [-1.74711514e-01, -2.36960028e+00],\n",
              "        [ 1.02885868e+00,  1.03520193e+00],\n",
              "        [-2.06423656e+00, -1.49811482e+00],\n",
              "        [ 7.24363038e-01, -3.74497572e-01],\n",
              "        [-5.12638604e-01, -1.66997181e+00],\n",
              "        [-1.29854547e+00, -1.78213954e+00],\n",
              "        [-2.91308358e-01, -1.32297240e+00],\n",
              "        [-9.22451178e-01,  1.55938011e+00],\n",
              "        [ 6.06949123e-01, -1.92695095e+00],\n",
              "        [ 1.61815412e+00, -1.41098154e+00],\n",
              "        [-2.84390861e-01,  1.28516740e-01],\n",
              "        [-1.14506636e+00, -6.01617601e-01],\n",
              "        [-9.10797208e-01, -1.51408134e+00],\n",
              "        [-1.02974722e+00,  8.08029008e-01],\n",
              "        [-6.74971949e-01,  1.23686691e+00],\n",
              "        [-3.13859609e-01,  1.08169038e+00],\n",
              "        [-9.67562269e-02, -1.04634812e+00],\n",
              "        [ 1.10922347e+00, -1.68327194e+00],\n",
              "        [ 3.80551397e+00,  1.49137866e-01],\n",
              "        [ 6.91740501e-01,  9.32466520e-01],\n",
              "        [-8.20603757e-01,  7.74998455e-01],\n",
              "        [ 7.74771870e-01, -1.12994088e+00],\n",
              "        [-1.54337318e+00, -5.27867198e-01],\n",
              "        [-1.80086374e-01, -1.62109929e+00],\n",
              "        [-3.73398803e-02, -1.92251617e+00],\n",
              "        [ 8.71930256e-01,  9.44092465e-01],\n",
              "        [ 1.98167116e-01,  1.19834281e+00],\n",
              "        [ 2.40553070e-01,  7.52439524e-01],\n",
              "        [ 7.34556744e-01,  1.12729093e+00],\n",
              "        [-9.28369699e-01,  1.09835499e+00],\n",
              "        [ 7.44323809e-01, -1.11690801e+00],\n",
              "        [ 3.17664339e-01,  1.14073734e+00],\n",
              "        [-2.58962352e-01,  9.36627693e-01],\n",
              "        [-1.78366045e-01,  1.05159727e+00],\n",
              "        [ 2.04669999e+00, -1.01775787e+00],\n",
              "        [-7.32381388e-01, -3.16439954e-01],\n",
              "        [-8.76150821e-01,  9.38246134e-01],\n",
              "        [-3.90186213e-01,  8.66811674e-01],\n",
              "        [-8.60042024e-01,  6.82399393e-01],\n",
              "        [-1.47834412e+00, -4.58217735e-01],\n",
              "        [ 3.53483649e-01, -1.04684497e+00],\n",
              "        [-1.64588447e+00, -1.79336505e+00],\n",
              "        [-1.60869714e+00,  1.04500028e+00],\n",
              "        [ 1.65836601e-01,  1.04371696e+00],\n",
              "        [-7.59563291e-01, -9.90655407e-01],\n",
              "        [ 2.33610938e-02, -1.84518665e+00],\n",
              "        [-1.11206353e+00, -1.69493671e+00],\n",
              "        [ 4.17050342e-01,  1.06947274e+00],\n",
              "        [-3.55639647e-02,  1.26847710e+00],\n",
              "        [ 9.82494282e-01, -1.33938777e+00],\n",
              "        [-1.60947813e+00,  1.00125605e+00],\n",
              "        [ 9.89600289e-01,  1.26694159e+00],\n",
              "        [ 1.03949361e+00, -9.53568987e-01],\n",
              "        [-1.10192400e-01, -1.62969750e+00],\n",
              "        [-6.57027257e-01,  1.04703625e+00],\n",
              "        [-6.44300389e-01,  1.14495920e+00],\n",
              "        [ 1.40697557e+00,  8.38761777e-01],\n",
              "        [-2.69641336e-01, -1.31882248e+00],\n",
              "        [ 2.88990304e-01, -3.04575699e-01],\n",
              "        [ 4.28358501e-01, -1.10757364e+00],\n",
              "        [-1.72375519e+00, -7.07488608e-01],\n",
              "        [ 1.66128608e+00,  1.59085862e+00],\n",
              "        [-5.30929289e-01,  1.37027026e+00],\n",
              "        [ 1.02194219e+00, -5.46483705e-01],\n",
              "        [-2.21627523e+00, -1.43020809e+00],\n",
              "        [ 9.64624265e-01, -1.72598657e+00],\n",
              "        [ 7.58980601e-01,  1.17926749e+00],\n",
              "        [-2.62825570e+00, -1.17227297e+00],\n",
              "        [-1.74344996e+00,  9.97776869e-01],\n",
              "        [ 8.29727566e-01, -1.71167084e+00],\n",
              "        [ 1.34999576e+00,  5.94932219e-01],\n",
              "        [-1.93393136e+00,  1.03763746e+00],\n",
              "        [-1.22825580e+00,  6.62205401e-01],\n",
              "        [ 6.42911514e-01,  9.43444347e-01],\n",
              "        [-4.98048222e-01, -2.05324570e+00],\n",
              "        [ 4.51101916e-01,  1.05104320e+00],\n",
              "        [-2.69267911e-01, -2.13216450e-02],\n",
              "        [ 2.83963318e-01,  1.12920018e+00],\n",
              "        [ 1.10434286e+00, -1.11628861e+00],\n",
              "        [ 7.87116585e-01, -5.48711063e-01],\n",
              "        [ 3.19006021e-01,  7.05395797e-01],\n",
              "        [-1.69731484e-02, -1.73171939e+00],\n",
              "        [ 5.35367865e-01,  1.19632359e+00],\n",
              "        [-1.48656535e+00,  7.84957559e-01],\n",
              "        [ 4.81312605e-01,  9.71724691e-01],\n",
              "        [ 1.05421974e+00, -1.32045158e+00],\n",
              "        [ 7.17487011e-01,  1.40977888e+00],\n",
              "        [-3.23073838e-01, -1.53094630e+00],\n",
              "        [ 1.47028284e+00, -1.02889795e+00],\n",
              "        [-1.26693058e-01, -7.50666180e-01],\n",
              "        [ 2.02584111e+00,  4.63471587e-03],\n",
              "        [ 1.52537231e+00, -7.05544863e-01],\n",
              "        [-2.87826838e-01,  8.75110161e-01],\n",
              "        [ 5.14712326e-01,  1.11414252e+00],\n",
              "        [ 6.44335216e-01, -9.07492218e-01],\n",
              "        [-1.91133900e-01, -1.35711833e+00],\n",
              "        [-8.98607781e-01,  1.32135061e+00],\n",
              "        [-3.27830527e-01,  1.18556267e+00],\n",
              "        [ 2.52094708e+00,  1.11913471e+00],\n",
              "        [ 2.50246022e-01,  1.16369383e+00],\n",
              "        [-5.68201865e-01,  9.97233331e-01],\n",
              "        [ 1.51880196e-01, -1.13827324e+00],\n",
              "        [ 1.03397734e+00,  9.94625504e-01],\n",
              "        [-1.45236904e+00,  4.70368522e-01],\n",
              "        [-1.44035415e+00,  1.00674819e+00],\n",
              "        [-8.59917131e-01, -7.74332383e-01],\n",
              "        [-1.10877497e+00,  1.14858995e+00],\n",
              "        [-5.62944237e-01, -1.81517397e+00],\n",
              "        [ 9.22557925e-01,  7.22022394e-01],\n",
              "        [ 5.56595729e-01, -9.68298445e-01],\n",
              "        [-1.55859064e-01, -9.93383540e-01],\n",
              "        [-1.18857664e+00,  1.33689522e+00],\n",
              "        [-2.66744646e-01,  1.24707267e+00],\n",
              "        [ 1.51944832e+00,  6.69433159e-01],\n",
              "        [-1.24458639e+00,  7.30610549e-01],\n",
              "        [-1.14914412e-01, -1.66416399e-01],\n",
              "        [-2.07979093e+00,  3.40368771e-01],\n",
              "        [-9.19477385e-01, -8.83574263e-01],\n",
              "        [-2.77688414e-01, -7.44748537e-01],\n",
              "        [-1.21620968e+00,  6.83049065e-01],\n",
              "        [ 1.62749494e+00, -1.17694401e+00],\n",
              "        [ 3.01511975e-01,  6.02119507e-01],\n",
              "        [ 6.44314599e-01,  9.56992667e-01],\n",
              "        [-1.48038581e+00,  1.05573465e+00],\n",
              "        [ 3.71876077e-01,  1.20938305e+00],\n",
              "        [ 3.38379307e-01,  1.31134144e+00],\n",
              "        [ 1.99009149e+00,  9.04658862e-01],\n",
              "        [-1.00235028e+00, -7.98731516e-01],\n",
              "        [-8.71517413e-02, -1.67901807e+00],\n",
              "        [-6.46615721e-02,  7.29392228e-01],\n",
              "        [ 1.53031689e+00, -1.42527722e+00],\n",
              "        [-3.38696894e-01,  2.09506699e-01],\n",
              "        [ 6.27158849e-02,  1.13288371e+00],\n",
              "        [-1.95634261e-02,  1.08597651e+00],\n",
              "        [-7.19309633e-01, -9.10266737e-01],\n",
              "        [ 7.76414305e-01, -7.84042128e-01],\n",
              "        [ 6.65546340e-01, -4.87610678e-01],\n",
              "        [ 1.63713564e+00, -2.17432334e+00],\n",
              "        [-5.98009083e-02,  8.22694316e-01],\n",
              "        [-7.36329438e-01,  8.31344915e-01],\n",
              "        [ 1.99083423e+00,  7.39232662e-01],\n",
              "        [-1.10963737e+00, -7.21441528e-01],\n",
              "        [-1.56887718e+00,  1.58366785e+00],\n",
              "        [ 1.43609074e+00,  5.39197880e-01],\n",
              "        [-4.21253088e-01, -8.18917818e-01],\n",
              "        [ 2.84183705e-01,  9.97209950e-01],\n",
              "        [ 4.10510520e-01, -5.62003310e-01],\n",
              "        [ 5.01637382e-02, -1.86205461e-01],\n",
              "        [-8.72351116e-01,  6.33199395e-01],\n",
              "        [-4.22725606e-01, -2.40543697e+00],\n",
              "        [ 1.07484879e+00,  8.23433889e-01],\n",
              "        [-8.19510632e-01,  9.16036256e-01],\n",
              "        [ 1.56110391e+00, -4.70849410e-01],\n",
              "        [ 5.41193475e-01, -1.16136205e+00],\n",
              "        [-9.51855250e-01, -2.25623806e+00],\n",
              "        [-1.28541366e+00,  8.89537258e-01],\n",
              "        [-5.02895716e-01,  1.03914579e+00],\n",
              "        [-2.60818351e-02,  1.01596097e+00],\n",
              "        [-6.04300483e-01, -1.27031016e+00],\n",
              "        [-9.78487004e-01,  1.33753667e+00],\n",
              "        [-1.18822392e+00,  6.05652299e-01],\n",
              "        [-6.11864335e-01, -3.04394204e-01],\n",
              "        [-1.24643954e+00,  1.49863868e-01],\n",
              "        [ 1.15960716e+00, -1.52652878e+00],\n",
              "        [ 1.64094544e+00, -7.78994384e-01],\n",
              "        [-1.05234752e+00, -1.19191135e+00],\n",
              "        [-6.21091558e-03, -1.53802337e+00],\n",
              "        [-2.50691573e+00, -5.61748430e-01],\n",
              "        [-1.66460869e+00, -9.50342075e-01],\n",
              "        [ 5.05644320e-01, -1.31135357e+00],\n",
              "        [ 1.63904127e-01,  8.16453466e-01],\n",
              "        [ 3.27494621e+00, -3.78799528e-01],\n",
              "        [ 4.61412128e-01,  1.62721884e+00],\n",
              "        [ 5.93103644e-01,  1.20379038e+00],\n",
              "        [ 3.11442245e-01,  1.10354795e+00],\n",
              "        [ 2.97567420e-02, -1.70729600e+00],\n",
              "        [-1.79255442e-01,  9.04111402e-01],\n",
              "        [-1.94083970e-01,  1.25165885e+00],\n",
              "        [ 7.15681337e-01, -7.61277410e-02],\n",
              "        [-1.06101136e+00,  9.01626186e-01],\n",
              "        [-1.02646091e+00,  7.30186986e-01],\n",
              "        [ 4.86250026e-01, -1.56351910e+00],\n",
              "        [-1.15840553e+00,  1.15352059e+00],\n",
              "        [ 4.20037118e-01,  1.03254396e+00],\n",
              "        [-5.10468330e-01,  7.41753970e-01],\n",
              "        [-6.07685719e-01, -9.00295674e-01],\n",
              "        [ 1.43637773e+00,  8.88204900e-01],\n",
              "        [ 1.61892082e-02,  7.50985464e-01],\n",
              "        [-2.43518124e+00, -1.33467556e+00],\n",
              "        [ 4.45047706e-01, -8.43962960e-01],\n",
              "        [-9.66556680e-02,  1.17882331e+00],\n",
              "        [-1.67530495e+00,  1.03949695e+00],\n",
              "        [ 6.13678993e-01, -1.17730862e+00],\n",
              "        [ 1.17643799e+00, -7.50069105e-02],\n",
              "        [ 1.26251243e+00, -1.33798222e+00],\n",
              "        [ 3.31873096e-01,  1.16156475e+00],\n",
              "        [-6.37157920e-01, -4.27618581e-01],\n",
              "        [ 7.50266447e-01,  4.23964853e-01],\n",
              "        [-5.14657260e-01,  1.25692322e+00],\n",
              "        [-8.55522699e-01, -4.78157321e-01],\n",
              "        [-1.80173222e-01,  8.91152061e-01]]),\n",
              " array([0., 1., 0., 1., 0., 0., 0., 0., 0., 1., 1., 1., 0., 0., 0., 0., 1.,\n",
              "        0., 0., 1., 1., 1., 1., 0., 0., 0., 1., 1., 0., 0., 0., 1., 0., 1.,\n",
              "        0., 0., 0., 0., 1., 0., 1., 1., 0., 1., 1., 0., 0., 0., 1., 1., 0.,\n",
              "        1., 0., 1., 1., 1., 0., 1., 0., 0., 1., 1., 1., 1., 1., 0., 1., 1.,\n",
              "        1., 0., 0., 1., 1., 0., 0., 1., 1., 1., 0., 0., 0., 1., 0., 0., 1.,\n",
              "        1., 0., 0., 0., 0., 0., 0., 0., 1., 1., 0., 1., 1., 0., 0., 0., 0.,\n",
              "        1., 1., 0., 0., 0., 0., 1., 1., 0., 0., 0., 1., 0., 0., 1., 0., 1.,\n",
              "        0., 0., 0., 0., 0., 0., 1., 0., 1., 0., 0., 1., 1., 0., 1., 1., 1.,\n",
              "        0., 1., 0., 1., 0., 1., 1., 1., 0., 0., 0., 0., 1., 0., 1., 1., 0.,\n",
              "        1., 0., 0., 1., 1., 1., 0., 0., 0., 0., 1., 0., 1., 0., 1., 0., 0.,\n",
              "        1., 1., 1., 1., 1., 1., 1., 0., 1., 1., 0., 1., 0., 1., 1., 1., 1.,\n",
              "        0., 1., 1., 0., 0., 0., 0., 1., 1., 1., 1., 0., 0., 1., 0., 0., 0.,\n",
              "        0., 0., 1., 0., 0., 0., 0., 0., 1., 1., 1., 0., 0., 0., 1., 1., 0.,\n",
              "        0., 0., 0., 1., 1., 1., 1., 1., 0., 1., 1., 1., 0., 0., 1., 1., 1.,\n",
              "        0., 0., 0., 1., 1., 0., 0., 0., 1., 1., 0., 1., 1., 0., 0., 1., 1.,\n",
              "        1., 0., 0., 0., 0., 1., 1., 0., 0., 0., 1., 0., 1., 0., 1., 1., 1.,\n",
              "        1., 0., 1., 0., 1., 0., 0., 1., 0., 1., 1., 1., 0., 1., 0., 0., 0.,\n",
              "        0., 0., 1., 1., 0., 0., 1., 1., 1., 1., 1., 0., 1., 1., 1., 0., 1.,\n",
              "        0., 0., 0., 0., 1., 1., 1., 1., 0., 0., 0., 0., 1., 0., 0., 1., 1.,\n",
              "        1., 1., 1., 0., 0., 1., 0., 0., 1., 1., 0., 0., 0., 0., 1., 1., 1.,\n",
              "        0., 1., 1., 0., 1., 0., 0., 1., 0., 1., 1., 0., 0., 0., 1., 1., 1.,\n",
              "        0., 1., 0., 0., 0., 0., 0., 0., 0., 0., 0., 0., 1., 0., 1., 1., 1.,\n",
              "        0., 1., 1., 0., 1., 1., 0., 1., 1., 1., 0., 1., 1., 0., 0., 1., 1.,\n",
              "        0., 0., 0., 1., 0., 0., 1., 0., 1.]),\n",
              " <keras.engine.sequential.Sequential at 0x7f07cb7b7908>)"
            ]
          },
          "metadata": {
            "tags": []
          },
          "execution_count": 9
        }
      ]
    },
    {
      "metadata": {
        "id": "Zh4u39OCjLza",
        "colab_type": "text"
      },
      "cell_type": "markdown",
      "source": [
        "# Weight sharing (OPTIONAL)\n",
        "\n",
        "** Note: You can click the arrow on the left of this text block to collapse/expand this optional section and all its code blocks **\n",
        "\n",
        "In the lab we designed a CNN that can count the number of objects in 1 dimensional images, where each black pixel is represented by a value of 0 and each white pixel is represented by a value of 1. Recall that an object is a consecutive sequence of black pixels ($0$'s). For example, the sequence $0100110$ contains three objects. \n",
        "\n",
        "Here we want to see how hard/easy it is to train such a network from data.  Our network architecture will be as follows: \n",
        "\n",
        "* The first layer is convolutional and you will implement it using the Keras `Conv1D` function, with a kernel of size 2 and stride of 1 with ReLu activation.\n",
        "\n",
        "* The second layer is a fully connected `Dense` layer which has a scalar output. \n",
        "\n",
        "Here is sample usage of the `Conv1D` and`Dense` layers. \n",
        "\n",
        "`layer1=keras.layers.Conv1D(filters=?, kernel_size=?, strides=?,use_bias=False, activation=?, batch_size=1, input_shape=?, padding='same')`\n",
        "\n",
        "`Dense(units=?, activation=?, use_bias=False)`\n",
        "\n",
        "You need to fill in the parameters marked with `?` based on the problem specifications. Note also that in Keras, depending on your implementation, you may be forced to use *three* layers to implement such a network, where one intermediary `Flatten` layer is used to flatten the output of the convolutional layer, before being passed to the dense layer.\n",
        "\n",
        "Refer to the <a href=\"https://keras.io/layers/convolutional/\">Conv 1D</a>, <a href=\"https://keras.io/layers/core/\">Dense</a> and <a href=\"https://keras.io/layers/core/#flatten\">Flatten</a> descriptions in the Keras documentation to see the available parameter options.\n",
        "\n",
        "In this exercise, we fix the structure and want to learn the best combination of weights from data. In the homework code, we have provided functions `train_neural_counter` and `get_image_data_1d`. You can use them to generate data and train the above neural network in Keras to answer the following questions. We assume that the images in our data set are randomly generated. The probability of a pixel being white is $0.1$. We work with mean squared error as the loss function for this problem. We have provided template code which you can fill in, to perform the training."
      ]
    },
    {
      "metadata": {
        "id": "yrcXA596yWek",
        "colab_type": "text"
      },
      "cell_type": "markdown",
      "source": [
        "<b>4A)</b> We call a $2\\times 1$ filter an *edge detector* if it has weights $[-1,1]$ or $[1,-1]$ (i.e., it can detect a left or right edge in a given image). We call it an *averaging filter* if takes average of nearby pixels. \n",
        "\n",
        "Assuming that the second layer in our network is the sum function (i.e., all of its weights are equal to 1), which of the following filters gives a (nearly) local minima? You may assume that we are working with $1024\\times 1$ images. \n",
        "\n",
        "(Although you can answer the question without any coding, you may also empirically verify your claims. The function `set_weights` that can be applied to keras layers might be useful.)"
      ]
    },
    {
      "metadata": {
        "id": "wKa8iMv_j3ek",
        "colab_type": "text"
      },
      "cell_type": "markdown",
      "source": [
        "<b>4B)</b> What is (approximately) the expected loss of the network on $1024\\times 1$ images if the convolutional layer is an averaging filter and second layer is the sum function (without a bias term)? (Note that you can answer the question theoretically or through coding, depending on your preference.)"
      ]
    },
    {
      "metadata": {
        "id": "IKxedp-qFXJe",
        "colab_type": "code",
        "colab": {}
      },
      "cell_type": "code",
      "source": [
        "from keras.models import Sequential"
      ],
      "execution_count": 0,
      "outputs": []
    },
    {
      "metadata": {
        "id": "oKPcB588ok8a",
        "colab_type": "code",
        "outputId": "2fb81c30-7ceb-43bf-b9a0-68e7d5f1f189",
        "colab": {
          "base_uri": "https://localhost:8080/",
          "height": 122
        }
      },
      "cell_type": "code",
      "source": [
        "# Code template if you would like to check 4B) through code\n",
        "\n",
        "imsize = 1024\n",
        "prob_white = 0.1\n",
        "\n",
        "num_filters = None  # Your code\n",
        "kernel_size = None  # Your code\n",
        "strides = None  # Your code\n",
        "activation_conv = None  # Your code\n",
        "\n",
        "(X_train,Y_train,X_val,Y_val,X_test,Y_test) = get_image_data_1d(1000,imsize,prob_white)\n",
        "\n",
        "layer1=keras.layers.Conv1D(filters=num_filters, kernel_size=kernel_size, \\\n",
        "       strides=strides, use_bias=False, activation=activation_conv, batch_size=1, input_shape=(imsize,1), padding='same')\n",
        "\n",
        "activation_dense = None  # Your code\n",
        "num_units = None  # Your code\n",
        "layer3=Dense(units=num_units, activation=activation_dense, use_bias=False)\n",
        "\n",
        "layers=[layer1,Flatten(),layer3]\n",
        "\n",
        "# This is how we create the model using our layers\n",
        "model=Sequential()\n",
        "for layer in layers:\n",
        "    model.add(layer)\n",
        "        \n",
        "model.compile(loss='mse', optimizer=Adam()) \n",
        "\n",
        "# Set the weights of the layers to desired values\n",
        "# We give you the lines to use for this part\n",
        "model.layers[0].set_weights([np.array([1/2,1/2]).reshape(2,1,1)])\n",
        "model.layers[-1].set_weights([np.ones(imsize).reshape(imsize,1)])\n",
        "\n",
        "model.evaluate(X_test,Y_test)"
      ],
      "execution_count": 0,
      "outputs": [
        {
          "output_type": "stream",
          "text": [
            "WARNING:tensorflow:From /usr/local/lib/python3.6/dist-packages/tensorflow/python/framework/op_def_library.py:263: colocate_with (from tensorflow.python.framework.ops) is deprecated and will be removed in a future version.\n",
            "Instructions for updating:\n",
            "Colocations handled automatically by placer.\n",
            "1000/1000 [==============================] - 0s 164us/step\n"
          ],
          "name": "stdout"
        },
        {
          "output_type": "execute_result",
          "data": {
            "text/plain": [
              "102.36525"
            ]
          },
          "metadata": {
            "tags": []
          },
          "execution_count": 13
        }
      ]
    },
    {
      "metadata": {
        "id": "js3OYsbwj7Ms",
        "colab_type": "text"
      },
      "cell_type": "markdown",
      "source": [
        "<b>4C)</b> Now suppose we add a bias term of $-10$ to the last layer. What is (approximately) the expected quadratic loss? (Note that you can answer the question theoretically or through coding, depending on your preference.)"
      ]
    },
    {
      "metadata": {
        "id": "AKynxhF1klga",
        "colab_type": "code",
        "colab": {}
      },
      "cell_type": "code",
      "source": [
        "# Edit code from 4B) with the bias"
      ],
      "execution_count": 0,
      "outputs": []
    },
    {
      "metadata": {
        "id": "3GCLr8qmj-Hk",
        "colab_type": "text"
      },
      "cell_type": "markdown",
      "source": [
        "<b>4D)</b> Averaging type filters are abundant and form a nearly flat valley of local minima for this problem. It is difficult for the network to find alternative solutions on its own. We need to force our way out of these bad minima and towards a better solution, i.e., an edge detector. To force the first layer to behave as an edge detector, we need to choose a proper **kernel regularizer**. Consider the following functions\n",
        "\n",
        "$f_1=\\sum_i |w_i|$, $f_2=\\sum_i |w_i^2|$, $f_3=|\\sum_{i} w_i|$. Which one of the choices is likely to guide the network to find an edge detector at the convolution layer?\n",
        "\n",
        "\n",
        "<a href=\"https://lms.mitx.mit.edu/courses/course-v1:MITx+6.036+2019_Spring/courseware/Week8/week8_homework/\">Refer to Catsoop.</a>"
      ]
    },
    {
      "metadata": {
        "id": "5aubU6Q6kwOI",
        "colab_type": "text"
      },
      "cell_type": "markdown",
      "source": [
        "Implement your choice of regularizers from above in the code (complete the function `filter_reg`). Do not allow any bias in the layers for the rest of the problem. The code generates some random test and training data sets and trains the model on these data. Run a few learning trials (5 or more) for each data set and answer the following questions based on the performance of your model.\n",
        "\n",
        "**IMPORTANT**: When implementing `filter_reg`, you should use the keras backend operations, imported as \"K\" in the code. So for example, `K.sum` and `K.abs`, rather than `np.sum` and `np.abs`. This is because the `weights` argument is NOT a numpy object, but rather an internal Keras object!"
      ]
    },
    {
      "metadata": {
        "id": "yOLZf_JsuTLn",
        "colab_type": "code",
        "colab": {}
      },
      "cell_type": "code",
      "source": [
        "# Implement filter_reg\n",
        "\n",
        "def filter_reg(weights):\n",
        "    # We scale the output of the filter by lam\n",
        "    lam=1000\n",
        "    filter_result = None  # Your code\n",
        "    return lam * filter_result"
      ],
      "execution_count": 0,
      "outputs": []
    },
    {
      "metadata": {
        "id": "pYRwd0eJkAdh",
        "colab_type": "text"
      },
      "cell_type": "markdown",
      "source": [
        "<b>4E)</b> For $1024\\times 1$ images and training set of size $1000$, is the network **without any regularization** likely to find models that have a mean square error lower than 8 on the test data?"
      ]
    },
    {
      "metadata": {
        "id": "1KiCbZmksXO6",
        "colab_type": "code",
        "colab": {}
      },
      "cell_type": "code",
      "source": [
        "# Code template if you would like to check 4B) through code\n",
        "\n",
        "imsize = 1024\n",
        "prob_white = 0.1\n",
        "\n",
        "data=get_image_data_1d(1000, imsize, prob_white)\n",
        "trials=5\n",
        "for trial in range(trials):\n",
        "  \n",
        "    num_filters = None  # Your code\n",
        "    kernel_size = None  # Your code\n",
        "    strides = None  # Your code\n",
        "    activation_conv = None  # Your code\n",
        "\n",
        "    layer1=keras.layers.Conv1D(filters=num_filters, kernel_size=kernel_size, \\\n",
        "    strides=strides, use_bias=False, activation=activation_conv, batch_size=1, \\\n",
        "    input_shape=(imsize,1),padding='same')\n",
        "    \n",
        "    activation_dense = None  # Your code\n",
        "    num_units = None  # Your code\n",
        "\n",
        "    layer3=Dense(units=num_units, activation=activation_dense, use_bias=False)\n",
        "    \n",
        "    layers=[layer1,Flatten(),layer3]\n",
        "    model,err = train_neural_counter(layers, data, 'mse')\n",
        "    \n",
        "    model.layers[0].get_weights()[0]\n",
        "    np.mean(model.layers[-1].get_weights()[0])\n",
        "    print(err)"
      ],
      "execution_count": 0,
      "outputs": []
    },
    {
      "metadata": {
        "id": "g1vcUEL-vW9D",
        "colab_type": "text"
      },
      "cell_type": "markdown",
      "source": [
        "#### For parts F) to J), simply edit your code from E) with the necessary changes."
      ]
    },
    {
      "metadata": {
        "id": "w_25ygQJkD5F",
        "colab_type": "text"
      },
      "cell_type": "markdown",
      "source": [
        "<b>4F)</b> Repeat the same experiment, but now with the regularizer you implemented. Try different regularization parameters. Which choice of regularization parameter gives the best prediction results?"
      ]
    },
    {
      "metadata": {
        "id": "vNAChIqylIlt",
        "colab_type": "code",
        "colab": {}
      },
      "cell_type": "code",
      "source": [
        "# Edit code from 4E), using your filter as the kernel_regularizer in the Conv1D layer"
      ],
      "execution_count": 0,
      "outputs": []
    },
    {
      "metadata": {
        "id": "Rs44ze96kHZZ",
        "colab_type": "text"
      },
      "cell_type": "markdown",
      "source": [
        "<b>4G)</b> With the above choice of regularization parameter, what is the mean square error of the best network that you find on the test data? Try a few trials (5 or more) for each data test and report the value of the best network. \n"
      ]
    },
    {
      "metadata": {
        "id": "IAN0k9wylOmz",
        "colab_type": "text"
      },
      "cell_type": "markdown",
      "source": [
        "\n",
        "#### We expect the training to be easier when there are fewer parameters to learn. Consider images of size $128\\times 1$ for the rest of the problem."
      ]
    },
    {
      "metadata": {
        "id": "ZnktFwXRkKNF",
        "colab_type": "text"
      },
      "cell_type": "markdown",
      "source": [
        "<b>4H)</b> Instead of resorting to regularization again, we may instead find a way to reduce the number of parameters. What additional layer can you add to the output of the convolution layer to reduce the number of parameters to be learned without losing any relevant information?\n",
        "\n",
        "<a href=\"https://lms.mitx.mit.edu/courses/course-v1:MITx+6.036+2019_Spring/courseware/Week8/week8_homework/\">Refer to Catsoop.</a>"
      ]
    },
    {
      "metadata": {
        "id": "zXgOqKtRkNRP",
        "colab_type": "text"
      },
      "cell_type": "markdown",
      "source": [
        "<b>4I)</b> Add the layer you suggested above to your network and run some tests with data sets of size 1000 on $128\\times 1$ images.  How many parameters are left to learn with the new structure?"
      ]
    },
    {
      "metadata": {
        "id": "e8FRQawHkPG9",
        "colab_type": "text"
      },
      "cell_type": "markdown",
      "source": [
        "<b>4J)</b> Mark your observations on the two structures (not using regularization).\n",
        "<a href=\"https://lms.mitx.mit.edu/courses/course-v1:MITx+6.036+2019_Spring/courseware/Week8/week8_homework/\">Refer to Catsoop.</a>"
      ]
    },
    {
      "metadata": {
        "id": "I-iTDCrHySde",
        "colab_type": "text"
      },
      "cell_type": "markdown",
      "source": [
        ""
      ]
    },
    {
      "metadata": {
        "id": "eQGlJLxI__4A",
        "colab_type": "text"
      },
      "cell_type": "markdown",
      "source": [
        "# 5) MNIST (Digit Classification)\n",
        "\n",
        "In this section, we'll be looking at the MNIST data set seen already in problem 2. This time, we look at the *complete* MNIST problem where our networks will take an image of *any* digit from $0-9$ as input (recall that problem 2 only looked at digits $0$ and $1$) and try to predict that digit. Also, we will now use out-of-the-box neural network implementations using Keras and Tensorflow. State-of-the-art systems have error rates of less that one half of one percent on this data set (see <a href=\"http://rodrigob.github.io/are_we_there_yet/build/classification_datasets_results.html#4d4e495354\">this list</a>).  We'll be happy with an error rate less than 2% since we don't have all year...\n",
        "<br>\n",
        "\n",
        "You can access the MNIST data for this problem using:\n",
        "<br><code>train, validation = get_MNIST_data()</code>\n",
        "<br>\n",
        "\n",
        "You can run the fully connected MNIST model, using:\n",
        "<br><code>run_keras_fc_mnist(train, validation, layers, epochs, split=0.1, trials=5)</code>\n",
        "<br>\n",
        "\n",
        "And, you can run the CNN MNIST test, using:\n",
        "<br><code>run_keras_cnn_mnist(train, validation, layers, epochs, split=0.1, trials=5)</code>\n",
        "<br>\n",
        "\n",
        "For all following experiments, please run for 5 trials (use `trials=5`) and report the average accuracy.\n",
        "<br>\n",
        "\n",
        "A word of warning, if you have a machine with a single core and/or very little RAM, you'll be better off running on an Athena workstation. If your solutions are not being accepted, and you are confident in your approach, try with more trials. Also, \n",
        "<br>\n",
        "\n",
        "You will need to design your own `layers` to feed to `run_keras_fc_mnist` and `run_keras_cnn_mnist`, which will be different than the ones specified by `archs()`. For instance, `layers=[Dense(input_dim=64, units=4, activation=\"softmax\")]` defines a single layer with 64 inputs, 4 output units, and softmax activation. Also, we advise you to use the option `verbose=True` when unsure about the progress made during training of your models.\n",
        "<br>"
      ]
    },
    {
      "metadata": {
        "id": "dx1jt6P9AUk1",
        "colab_type": "text"
      },
      "cell_type": "markdown",
      "source": [
        "<b> 5A)</b> Look at the code and indicate what the difference is between <code>run_keras_fc_mnist</code> and <code>run_keras_cnn_mnist</code>? <a href=\"https://lms.mitx.mit.edu/courses/course-v1:MITx+6.036+2019_Spring/courseware/Week8/week8_homework/\">Refer to the HW8 page.</a>"
      ]
    },
    {
      "metadata": {
        "id": "Q5moSfb7CcXd",
        "colab_type": "code",
        "colab": {}
      },
      "cell_type": "code",
      "source": [
        "def run_keras_fc_mnist(train, test, layers, epochs, split=0.1, verbose=True, trials=1):\n",
        "    '''\n",
        "    train, test = input data\n",
        "    layers = list of Keras layers, e.g. [Dense(32, input_dim=784), Dense(10)]\n",
        "    epochs = number of epochs to run the model for each training trial\n",
        "    trials = number of evaluation trials, resetting weights before each trial\n",
        "    '''\n",
        "    (X_train, y1), (X_val, y2) = train, test\n",
        "    # Flatten the images\n",
        "    m = X_train.shape[1]\n",
        "    X_train = X_train.reshape((X_train.shape[0], m*m))\n",
        "    X_train = X_train/225\n",
        "    X_val = X_val.reshape((X_val.shape[0], m*m))\n",
        "    X_val = X_val/225\n",
        "\n",
        "    # Categorize the labels\n",
        "    num_classes = 10\n",
        "    y_train = np_utils.to_categorical(y1, num_classes)\n",
        "    y_val = np_utils.to_categorical(y2, num_classes)\n",
        "    # Train, use split for validation\n",
        "    val_acc, test_acc = 0, 0\n",
        "    for trial in range(trials):\n",
        "        # Reset the weights\n",
        "        # See https://github.com/keras-team/keras/issues/341\n",
        "        session = K.get_session()\n",
        "        for layer in layers:\n",
        "            for v in layer.__dict__:\n",
        "                v_arg = getattr(layer, v)\n",
        "                if hasattr(v_arg, 'initializer'):\n",
        "                    initializer_func = getattr(v_arg, 'initializer')\n",
        "                    initializer_func.run(session=session)\n",
        "        # Run the model\n",
        "        model, history, vacc, tacc = \\\n",
        "                run_keras(X_train, y_train, X_val, y_val, None, None, layers, epochs, split=split, verbose=verbose)\n",
        "        val_acc += vacc if vacc else 0\n",
        "        test_acc += tacc if tacc else 0\n",
        "    if val_acc:\n",
        "        print (\"\\nAvg. validation accuracy:\"  + str(val_acc/trials))\n",
        "    if test_acc:\n",
        "        print (\"\\nAvg. test accuracy:\"  + str(test_acc/trials))\n",
        "\n",
        "def run_keras_cnn_mnist(train, test, layers, epochs, split=0.1, verbose=True, trials=1):\n",
        "    # Load the dataset\n",
        "    (X_train, y1), (X_val, y2) = train, test\n",
        "    # Add a final dimension indicating the number of channels (only 1 here)\n",
        "    m = X_train.shape[1]\n",
        "    X_train = X_train.reshape((X_train.shape[0], m, m, 1))\n",
        "    X_val = X_val.reshape((X_val.shape[0], m, m, 1))\n",
        "    # Categorize the labels\n",
        "    num_classes = 10\n",
        "    y_train = np_utils.to_categorical(y1, num_classes)\n",
        "    y_val = np_utils.to_categorical(y2, num_classes)\n",
        "    # Train, use split for validation\n",
        "    val_acc, test_acc = 0, 0\n",
        "    for trial in range(trials):\n",
        "        # Reset the weights\n",
        "        # See https://github.com/keras-team/keras/issues/341\n",
        "        session = K.get_session()\n",
        "        for layer in layers:\n",
        "            for v in layer.__dict__:\n",
        "                v_arg = getattr(layer, v)\n",
        "                if hasattr(v_arg, 'initializer'):\n",
        "                    initializer_func = getattr(v_arg, 'initializer')\n",
        "                    initializer_func.run(session=session)\n",
        "        # Run the model\n",
        "        model, history, vacc, tacc = \\\n",
        "                run_keras(X_train, y_train, X_val, y_val, None, None, layers, epochs, split=split, verbose=verbose)\n",
        "        val_acc += vacc if vacc else 0\n",
        "        test_acc += tacc if tacc else 0\n",
        "    if val_acc:\n",
        "        print (\"\\nAvg. validation accuracy:\"  + str(val_acc/trials))\n",
        "    if test_acc:\n",
        "        print (\"\\nAvg. test accuracy:\"  + str(test_acc/trials))"
      ],
      "execution_count": 0,
      "outputs": []
    },
    {
      "metadata": {
        "id": "4sGfqAbICbmE",
        "colab_type": "text"
      },
      "cell_type": "markdown",
      "source": [
        "<b> 5B)</b> Using one epoch of training, what is the accuracy of a network **with no hidden units** (using the <code>run_keras_fc_mnist</code> method) on this data? Hint: this is expected to be terrible. If it's still not working, run for more trials. Remember to use 10 output units (the network predicts a digit from 0-9) and softmax activation!\n",
        "\n"
      ]
    },
    {
      "metadata": {
        "id": "H1VAxZ17DtPQ",
        "colab_type": "code",
        "outputId": "92963490-6361-4c42-9390-ced097d0fcdb",
        "colab": {
          "base_uri": "https://localhost:8080/",
          "height": 221
        }
      },
      "cell_type": "code",
      "source": [
        "train, validation = get_MNIST_data()\n",
        "\n",
        "layers =[Dense(units=512, activation='relu', use_bias=False),Dense(units=256, activation='relu', use_bias=False),Dense(units=10, activation='softmax', use_bias=False)]\n",
        "run_keras_fc_mnist(train, validation, layers, 1, split=0.1, verbose=False, trials=5)\n",
        "\n",
        "\n",
        "\n"
      ],
      "execution_count": 22,
      "outputs": [
        {
          "output_type": "stream",
          "text": [
            "\n",
            "Loss on validation set:0.08997663340356667 Accuracy on validation set: 0.9699\n",
            "\n",
            "Loss on validation set:0.09168975310558453 Accuracy on validation set: 0.9707\n",
            "\n",
            "Loss on validation set:0.1168704836115241 Accuracy on validation set: 0.961\n",
            "\n",
            "Loss on validation set:0.1031216709732078 Accuracy on validation set: 0.9668\n",
            "\n",
            "Loss on validation set:0.09023331436733716 Accuracy on validation set: 0.9724\n",
            "\n",
            "Avg. validation accuracy:0.9681599999999999\n"
          ],
          "name": "stdout"
        }
      ]
    },
    {
      "metadata": {
        "id": "5Gndf-ASDEe_",
        "colab_type": "text"
      },
      "cell_type": "markdown",
      "source": [
        "<b> 5C)</b> When creating the keras layer, pass in the following argument to Dense:\n",
        "<code>kernel_initializer=VarianceScaling(scale=0.001, mode='fan_in', distribution='normal', seed=None)</code> and repeat the test.  What is the accuracy now?\n"
      ]
    },
    {
      "metadata": {
        "id": "x2CP5WJQELJA",
        "colab_type": "code",
        "outputId": "e4ab9b14-aa3d-47bb-c859-63ad75f34b8f",
        "colab": {
          "base_uri": "https://localhost:8080/",
          "height": 51
        }
      },
      "cell_type": "code",
      "source": [
        "train, validation = get_MNIST_data()\n",
        "print(train[0].shape)\n",
        "print(validation[0].shape)"
      ],
      "execution_count": 27,
      "outputs": [
        {
          "output_type": "stream",
          "text": [
            "(60000, 28, 28)\n",
            "(10000, 28, 28)\n"
          ],
          "name": "stdout"
        }
      ]
    },
    {
      "metadata": {
        "id": "xsQ31e1lDE6u",
        "colab_type": "text"
      },
      "cell_type": "markdown",
      "source": [
        "<b> 5D)</b> Now, linearly scale the data so that the pixel values are between 0 and 1 and repeat your test with the original layer (no VarianceScaling). What is the accuracy now?"
      ]
    },
    {
      "metadata": {
        "id": "5b-RcZu1EPaj",
        "colab_type": "code",
        "colab": {}
      },
      "cell_type": "code",
      "source": [
        "layers = None  # Your code\n",
        "train, validation = get_MNIST_data()\n",
        "\n",
        "# Scale the images\n",
        "train = (None, train[1])  # Your code\n",
        "validation = (None, validation[1])  # Your code\n",
        "\n",
        "run_keras_fc_mnist(train, validation, layers, 1, split=0.1, verbose=True, trials=5)"
      ],
      "execution_count": 0,
      "outputs": []
    },
    {
      "metadata": {
        "id": "S4aBsxAzDFBY",
        "colab_type": "text"
      },
      "cell_type": "markdown",
      "source": [
        "<b> 5E)</b> What is happening? <a href=\"https://lms.mitx.mit.edu/courses/course-v1:MITx+6.036+2019_Spring/courseware/Week8/week8_homework/\">Refer to the HW8 page.</a>\n"
      ]
    },
    {
      "metadata": {
        "id": "KrYGfcOLEr0f",
        "colab_type": "text"
      },
      "cell_type": "markdown",
      "source": [
        "### Important: <b>Always scale the data like in 5D) for subsequent problems.</b>\n"
      ]
    },
    {
      "metadata": {
        "id": "mHoyqJdqDFH5",
        "colab_type": "text"
      },
      "cell_type": "markdown",
      "source": [
        "<b> 5F)</b> Using this same architecture, evaluate validation accuracy for number of training epochs in [5, 10, 15]."
      ]
    },
    {
      "metadata": {
        "id": "q8PlbWS_EwTv",
        "colab_type": "code",
        "colab": {}
      },
      "cell_type": "code",
      "source": [
        "train, validation = get_MNIST_data()\n",
        "\n",
        "# Scale the images\n",
        "train = (None, train[1])  # Your code\n",
        "validation = (None, validation[1])  # Your code\n",
        "\n",
        "for epochs in [5,10,15]:\n",
        "    layers = None  # Your code\n",
        "    run_keras_fc_mnist(train, validation, layers, epochs, split=0.1, verbose=True, trials=5)"
      ],
      "execution_count": 0,
      "outputs": []
    },
    {
      "metadata": {
        "id": "6zJk4u2-DFNi",
        "colab_type": "text"
      },
      "cell_type": "markdown",
      "source": [
        "<b> 5G a)</b>With the validation accuracy that you just saw on per digit basis using $15$ epochs, and assuming each digit is read independently from the others, what is the probability of reading a 5 digit zip code correctly?<br>\n",
        "\n",
        "<b> 5G b)</b>Now, assume that the accuracy is 0.9985, what is the probability of reading a zip code correctly?<br>\n",
        "\n",
        "\n",
        "This is why people care about dropping the error rates to what at first sound like ridiculous values.\n",
        "\n",
        "<a href=\"https://lms.mitx.mit.edu/courses/course-v1:MITx+6.036+2019_Spring/courseware/Week8/week8_homework/\">Refer to the HW8 page.</a>"
      ]
    },
    {
      "metadata": {
        "id": "vCPTuz-tDFTg",
        "colab_type": "text"
      },
      "cell_type": "markdown",
      "source": [
        "<b> 5H)</b> Using one epoch of training, try a single hidden layer with ReLU and gradually increase the units (128, 256, 512, 1024) units.  What are the accuracies?"
      ]
    },
    {
      "metadata": {
        "id": "bmpbP_VHFoh1",
        "colab_type": "code",
        "colab": {}
      },
      "cell_type": "code",
      "source": [
        "train, validation = get_MNIST_data()\n",
        "\n",
        "# Scale the images\n",
        "train = (None, train[1])  # Your code\n",
        "validation = (None, validation[1])  # Your code\n",
        "\n",
        "for num in [128,256,512,1024]:\n",
        "    layers = None  # Your code\n",
        "    run_keras_fc_mnist(train, validation, layers, 1, split=0.1, verbose=True, trials=5)"
      ],
      "execution_count": 0,
      "outputs": []
    },
    {
      "metadata": {
        "id": "gEM5mZi5DFYS",
        "colab_type": "text"
      },
      "cell_type": "markdown",
      "source": [
        "<b> 5I)</b> Now, try a network with two layers, again using one epoch, with 512 units in the first hidden layer and and 256 units in the second hidden layer.  What is the accuracy?"
      ]
    },
    {
      "metadata": {
        "id": "6cwp1VR7F06q",
        "colab_type": "code",
        "outputId": "cb60f000-4b58-46ec-9d47-e111d4a86d61",
        "colab": {
          "base_uri": "https://localhost:8080/",
          "height": 316
        }
      },
      "cell_type": "code",
      "source": [
        "train, validation = get_MNIST_data()\n",
        "\n",
        "# Scale the images\n",
        "train = (None, train[1])  # Your code\n",
        "validation = (None, validation[1])  # Your code\n",
        "\n",
        "layers = None  # Your code\n",
        "run_keras_fc_mnist(train, validation, layers, 1, split=0.1, verbose=True, trials=5)"
      ],
      "execution_count": 0,
      "outputs": [
        {
          "output_type": "error",
          "ename": "AttributeError",
          "evalue": "ignored",
          "traceback": [
            "\u001b[0;31m---------------------------------------------------------------------------\u001b[0m",
            "\u001b[0;31mAttributeError\u001b[0m                            Traceback (most recent call last)",
            "\u001b[0;32m<ipython-input-8-0d4c243c4779>\u001b[0m in \u001b[0;36m<module>\u001b[0;34m()\u001b[0m\n\u001b[1;32m      6\u001b[0m \u001b[0;34m\u001b[0m\u001b[0m\n\u001b[1;32m      7\u001b[0m \u001b[0mlayers\u001b[0m \u001b[0;34m=\u001b[0m \u001b[0;32mNone\u001b[0m  \u001b[0;31m# Your code\u001b[0m\u001b[0;34m\u001b[0m\u001b[0;34m\u001b[0m\u001b[0m\n\u001b[0;32m----> 8\u001b[0;31m \u001b[0mrun_keras_fc_mnist\u001b[0m\u001b[0;34m(\u001b[0m\u001b[0mtrain\u001b[0m\u001b[0;34m,\u001b[0m \u001b[0mvalidation\u001b[0m\u001b[0;34m,\u001b[0m \u001b[0mlayers\u001b[0m\u001b[0;34m,\u001b[0m \u001b[0;36m1\u001b[0m\u001b[0;34m,\u001b[0m \u001b[0msplit\u001b[0m\u001b[0;34m=\u001b[0m\u001b[0;36m0.1\u001b[0m\u001b[0;34m,\u001b[0m \u001b[0mverbose\u001b[0m\u001b[0;34m=\u001b[0m\u001b[0;32mTrue\u001b[0m\u001b[0;34m,\u001b[0m \u001b[0mtrials\u001b[0m\u001b[0;34m=\u001b[0m\u001b[0;36m5\u001b[0m\u001b[0;34m)\u001b[0m\u001b[0;34m\u001b[0m\u001b[0;34m\u001b[0m\u001b[0m\n\u001b[0m",
            "\u001b[0;32m<ipython-input-5-fd92950b6282>\u001b[0m in \u001b[0;36mrun_keras_fc_mnist\u001b[0;34m(train, test, layers, epochs, split, verbose, trials)\u001b[0m\n\u001b[1;32m      8\u001b[0m     \u001b[0;34m(\u001b[0m\u001b[0mX_train\u001b[0m\u001b[0;34m,\u001b[0m \u001b[0my1\u001b[0m\u001b[0;34m)\u001b[0m\u001b[0;34m,\u001b[0m \u001b[0;34m(\u001b[0m\u001b[0mX_val\u001b[0m\u001b[0;34m,\u001b[0m \u001b[0my2\u001b[0m\u001b[0;34m)\u001b[0m \u001b[0;34m=\u001b[0m \u001b[0mtrain\u001b[0m\u001b[0;34m,\u001b[0m \u001b[0mtest\u001b[0m\u001b[0;34m\u001b[0m\u001b[0;34m\u001b[0m\u001b[0m\n\u001b[1;32m      9\u001b[0m     \u001b[0;31m# Flatten the images\u001b[0m\u001b[0;34m\u001b[0m\u001b[0;34m\u001b[0m\u001b[0;34m\u001b[0m\u001b[0m\n\u001b[0;32m---> 10\u001b[0;31m     \u001b[0mm\u001b[0m \u001b[0;34m=\u001b[0m \u001b[0mX_train\u001b[0m\u001b[0;34m.\u001b[0m\u001b[0mshape\u001b[0m\u001b[0;34m[\u001b[0m\u001b[0;36m1\u001b[0m\u001b[0;34m]\u001b[0m\u001b[0;34m\u001b[0m\u001b[0;34m\u001b[0m\u001b[0m\n\u001b[0m\u001b[1;32m     11\u001b[0m     \u001b[0mX_train\u001b[0m \u001b[0;34m=\u001b[0m \u001b[0mX_train\u001b[0m\u001b[0;34m.\u001b[0m\u001b[0mreshape\u001b[0m\u001b[0;34m(\u001b[0m\u001b[0;34m(\u001b[0m\u001b[0mX_train\u001b[0m\u001b[0;34m.\u001b[0m\u001b[0mshape\u001b[0m\u001b[0;34m[\u001b[0m\u001b[0;36m0\u001b[0m\u001b[0;34m]\u001b[0m\u001b[0;34m,\u001b[0m \u001b[0mm\u001b[0m\u001b[0;34m*\u001b[0m\u001b[0mm\u001b[0m\u001b[0;34m)\u001b[0m\u001b[0;34m)\u001b[0m\u001b[0;34m\u001b[0m\u001b[0;34m\u001b[0m\u001b[0m\n\u001b[1;32m     12\u001b[0m     \u001b[0mX_val\u001b[0m \u001b[0;34m=\u001b[0m \u001b[0mX_val\u001b[0m\u001b[0;34m.\u001b[0m\u001b[0mreshape\u001b[0m\u001b[0;34m(\u001b[0m\u001b[0;34m(\u001b[0m\u001b[0mX_val\u001b[0m\u001b[0;34m.\u001b[0m\u001b[0mshape\u001b[0m\u001b[0;34m[\u001b[0m\u001b[0;36m0\u001b[0m\u001b[0;34m]\u001b[0m\u001b[0;34m,\u001b[0m \u001b[0mm\u001b[0m\u001b[0;34m*\u001b[0m\u001b[0mm\u001b[0m\u001b[0;34m)\u001b[0m\u001b[0;34m)\u001b[0m\u001b[0;34m\u001b[0m\u001b[0;34m\u001b[0m\u001b[0m\n",
            "\u001b[0;31mAttributeError\u001b[0m: 'NoneType' object has no attribute 'shape'"
          ]
        }
      ]
    },
    {
      "metadata": {
        "id": "TmnNUT2nDFdi",
        "colab_type": "text"
      },
      "cell_type": "markdown",
      "source": [
        "<b> 5J)</b> Build a convolutional network with the following structure:\n",
        "\n",
        "<ul>\n",
        "<li> A convolutional layer with 32 filters of size 3 × 3, with a ReLU activation\n",
        "<li> A max pooling layer with size 2 × 2\n",
        "<li> A convolutional layer with 64 filters of size 3 × 3, with ReLU activation\n",
        "<li> A max pooling layer with size 2 × 2\n",
        "<li> A flatten layer\n",
        "<li> A fully connected layer with 128 neurons, with ReLU activation\n",
        "<li> A dropout layer with drop probability 0.5\n",
        "<li> A fully-connected layer with 10 neurons with softmax\n",
        "</ul>\n",
        "Train it on MNIST for one epoch, using <code>run_keras_cnn_mnist</code>.  What is the accuracy on the validation set?\n",
        "\n",
        "If you have time to run the training for more epochs, try it, you should see improvement.\n"
      ]
    },
    {
      "metadata": {
        "id": "3-sPW8xKF7EZ",
        "colab_type": "code",
        "colab": {
          "base_uri": "https://localhost:8080/",
          "height": 547
        },
        "outputId": "59547f4f-82fb-472a-dc0a-3add5b98eece"
      },
      "cell_type": "code",
      "source": [
        "train, validation = get_MNIST_data()\n",
        "\n",
        "# Scale the images\n",
        "train = (train[0]/225, train[1])  # Your code\n",
        "validation = (validation[0]/225, validation[1])  # Your code\n",
        "\n",
        "layers = [Conv2D(32,(3,3), strides=(1, 1), padding='valid', data_format=None, activation=\"relu\"),\n",
        "          MaxPooling2D(pool_size=(2, 2), strides=None, padding='valid', data_format=None),\n",
        "          Conv2D(64, (3,3), strides=(1, 1), padding='valid', data_format=None, dilation_rate=(1, 1), activation=\"relu\", use_bias=True, kernel_initializer='glorot_uniform', bias_initializer='zeros', kernel_regularizer=None, bias_regularizer=None, activity_regularizer=None, kernel_constraint=None, bias_constraint=None),\n",
        "          MaxPooling2D(pool_size=(2, 2), strides=None, padding='valid', data_format=None),\n",
        "          Flatten(),\n",
        "          Dense(units=128, activation='relu', use_bias=False),\n",
        "          Dropout(0.5),\n",
        "          Dense(units=10, activation='softmax', use_bias=False)]\n",
        "\n",
        "\n",
        "run_keras_cnn_mnist(train, validation, layers, 1, split=0.1, verbose=True, trials=5)"
      ],
      "execution_count": 26,
      "outputs": [
        {
          "output_type": "stream",
          "text": [
            "WARNING:tensorflow:From /usr/local/lib/python3.6/dist-packages/keras/backend/tensorflow_backend.py:3445: calling dropout (from tensorflow.python.ops.nn_ops) with keep_prob is deprecated and will be removed in a future version.\n",
            "Instructions for updating:\n",
            "Please use `rate` instead of `keep_prob`. Rate should be set to `rate = 1 - keep_prob`.\n",
            "Train on 60000 samples, validate on 10000 samples\n",
            "Epoch 1/1\n",
            "60000/60000 [==============================] - 75s 1ms/step - loss: 0.1981 - acc: 0.9399 - val_loss: 0.0490 - val_acc: 0.9840\n",
            "\n",
            "Loss on validation set:0.048985375271039085 Accuracy on validation set: 0.984\n",
            "Train on 60000 samples, validate on 10000 samples\n",
            "Epoch 1/1\n",
            "60000/60000 [==============================] - 75s 1ms/step - loss: 0.2056 - acc: 0.9385 - val_loss: 0.0481 - val_acc: 0.9852\n",
            "\n",
            "Loss on validation set:0.04810208201364148 Accuracy on validation set: 0.9852\n",
            "Train on 60000 samples, validate on 10000 samples\n",
            "Epoch 1/1\n",
            "60000/60000 [==============================] - 76s 1ms/step - loss: 0.2048 - acc: 0.9374 - val_loss: 0.0463 - val_acc: 0.9850\n",
            "\n",
            "Loss on validation set:0.04629736431870842 Accuracy on validation set: 0.985\n",
            "Train on 60000 samples, validate on 10000 samples\n",
            "Epoch 1/1\n",
            "60000/60000 [==============================] - 77s 1ms/step - loss: 0.1996 - acc: 0.9390 - val_loss: 0.0512 - val_acc: 0.9834\n",
            "\n",
            "Loss on validation set:0.051162075113644824 Accuracy on validation set: 0.9834\n",
            "Train on 60000 samples, validate on 10000 samples\n",
            "Epoch 1/1\n",
            "60000/60000 [==============================] - 76s 1ms/step - loss: 0.2201 - acc: 0.9332 - val_loss: 0.0545 - val_acc: 0.9825\n",
            "\n",
            "Loss on validation set:0.054509910759003834 Accuracy on validation set: 0.9825\n",
            "\n",
            "Avg. validation accuracy:0.9840199999999999\n"
          ],
          "name": "stdout"
        }
      ]
    },
    {
      "metadata": {
        "id": "KjmqgGvIDFiS",
        "colab_type": "text"
      },
      "cell_type": "markdown",
      "source": [
        "<b> 5K)</b> Now, let's compare the performance of a fully connected model and a CNN on data where the characters have been shifted randomly so that they are no longer centered.  \n",
        "\n",
        "You can build such a data set by calling: <code>train_20, validation_20 = get_MNIST_data(shift=20)</code>. Remember to scale it appropriately.\n",
        "\n",
        "<b>Note that each image is now 48x48, so you will need to change your layer definitions</b>.\n",
        "Run your two-hidden-layer FC architecture from above (problem 5I) on this data and then run the CNN architecture from above (problem 5J), both for one epoch. Report your results.\n"
      ]
    },
    {
      "metadata": {
        "id": "uvfiyrN9Gf7X",
        "colab_type": "code",
        "outputId": "8f227d85-82c9-4cf4-e2ad-1db191bd86da",
        "colab": {
          "base_uri": "https://localhost:8080/",
          "height": 581
        }
      },
      "cell_type": "code",
      "source": [
        "train_20, validation_20 = get_MNIST_data(shift=20) # Your code (fill in the shift)\n",
        "#print(train_20[0].shape)\n",
        "print(train_20[0].shape[1])\n",
        "print(train_20[0].shape[0])\n",
        "\n",
        "#print(validation_20[0].shape)\n",
        "# Scale the images\n",
        "train_20 = (train_20[0]/225, train_20[1])  # Your code\n",
        "validation_20 = (validation_20[0]/225, validation_20[1])  # Your code\n",
        "\n",
        "\n",
        "\n",
        "#layers_fc =[Dense(units=512, input_dim = 48*48, activation='relu', use_bias=False),Dense(units=256, activation='relu', use_bias=False),Dense(units=10, activation='softmax', use_bias=False)]\n",
        "\n",
        "\n",
        "#run_keras_fc_mnist(train_20, validation_20, layers_fc, 1, split=0.1, verbose=True, trials=5)\n",
        "\n",
        "layers_cnn = [\n",
        "          Conv2D(32,(3,3), strides=(1, 1), padding='valid', data_format=None, activation=\"relu\",input_shape=(48,48,1)),\n",
        "          MaxPooling2D(pool_size=(2, 2), strides=None, padding='valid', data_format=None),\n",
        "          Conv2D(64, (3,3), strides=(1, 1), padding='valid', data_format=None, dilation_rate=(1, 1), activation=\"relu\", use_bias=True, kernel_initializer='glorot_uniform', bias_initializer='zeros', kernel_regularizer=None, bias_regularizer=None, activity_regularizer=None, kernel_constraint=None, bias_constraint=None),\n",
        "          MaxPooling2D(pool_size=(2, 2), strides=None, padding='valid', data_format=None),\n",
        "          Flatten(),\n",
        "          Dense(units=128, activation='relu', use_bias=False),\n",
        "          Dropout(0.5),\n",
        "          Dense(units=10, activation='softmax', use_bias=False)]\n",
        "\n",
        "run_keras_cnn_mnist(train_20, validation_20, layers_cnn, 1, split=0.1, verbose=True, trials=5)"
      ],
      "execution_count": 8,
      "outputs": [
        {
          "output_type": "stream",
          "text": [
            "48\n",
            "60000\n",
            "WARNING:tensorflow:From /usr/local/lib/python3.6/dist-packages/keras/backend/tensorflow_backend.py:3445: calling dropout (from tensorflow.python.ops.nn_ops) with keep_prob is deprecated and will be removed in a future version.\n",
            "Instructions for updating:\n",
            "Please use `rate` instead of `keep_prob`. Rate should be set to `rate = 1 - keep_prob`.\n",
            "Train on 60000 samples, validate on 10000 samples\n",
            "Epoch 1/1\n",
            "60000/60000 [==============================] - 224s 4ms/step - loss: 0.6515 - acc: 0.7819 - val_loss: 0.1546 - val_acc: 0.9518\n",
            "\n",
            "Loss on validation set:0.15457234873324632 Accuracy on validation set: 0.9518\n",
            "Train on 60000 samples, validate on 10000 samples\n",
            "Epoch 1/1\n",
            "60000/60000 [==============================] - 229s 4ms/step - loss: 0.6633 - acc: 0.7758 - val_loss: 0.1322 - val_acc: 0.9605\n",
            "\n",
            "Loss on validation set:0.13220110003352165 Accuracy on validation set: 0.9605\n",
            "Train on 60000 samples, validate on 10000 samples\n",
            "Epoch 1/1\n",
            "60000/60000 [==============================] - 231s 4ms/step - loss: 0.6419 - acc: 0.7873 - val_loss: 0.1287 - val_acc: 0.9605\n",
            "\n",
            "Loss on validation set:0.12874575315713882 Accuracy on validation set: 0.9605\n",
            "Train on 60000 samples, validate on 10000 samples\n",
            "Epoch 1/1\n",
            "60000/60000 [==============================] - 230s 4ms/step - loss: 0.6651 - acc: 0.7753 - val_loss: 0.1321 - val_acc: 0.9614\n",
            "\n",
            "Loss on validation set:0.13211818784475327 Accuracy on validation set: 0.9614\n",
            "Train on 60000 samples, validate on 10000 samples\n",
            "Epoch 1/1\n",
            "60000/60000 [==============================] - 225s 4ms/step - loss: 0.6712 - acc: 0.7765 - val_loss: 0.1384 - val_acc: 0.9566\n",
            "\n",
            "Loss on validation set:0.13842649040818214 Accuracy on validation set: 0.9566\n",
            "\n",
            "Avg. validation accuracy:0.95816\n"
          ],
          "name": "stdout"
        }
      ]
    },
    {
      "metadata": {
        "id": "1iLmfPHaC2d8",
        "colab_type": "text"
      },
      "cell_type": "markdown",
      "source": [
        "<b> 5L)</b> Some possible conclusions. <a href=\"https://lms.mitx.mit.edu/courses/course-v1:MITx+6.036+2019_Spring/courseware/Week8/week8_homework/\">Refer to the HW8 page.</a>"
      ]
    }
  ]
}